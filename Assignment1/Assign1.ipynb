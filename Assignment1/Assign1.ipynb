{
 "cells": [
  {
   "cell_type": "code",
   "execution_count": 1,
   "id": "927b1320",
   "metadata": {},
   "outputs": [
    {
     "name": "stdout",
     "output_type": "stream",
     "text": [
      "HELLO WORLD...\n"
     ]
    }
   ],
   "source": [
    "print(\"HELLO WORLD...\");"
   ]
  },
  {
   "cell_type": "code",
   "execution_count": 4,
   "id": "cc13eed4",
   "metadata": {},
   "outputs": [
    {
     "name": "stdout",
     "output_type": "stream",
     "text": [
      "Python version\n",
      "3.9.7 (default, Sep 16 2021, 16:59:28) [MSC v.1916 64 bit (AMD64)]\n"
     ]
    }
   ],
   "source": [
    "import sys\n",
    "print(\"Python version\");\n",
    "print (sys.version);"
   ]
  },
  {
   "cell_type": "code",
   "execution_count": 6,
   "id": "114c260b",
   "metadata": {},
   "outputs": [
    {
     "name": "stdout",
     "output_type": "stream",
     "text": [
      "2022-01-01\n"
     ]
    }
   ],
   "source": [
    "from datetime import date\n",
    "\n",
    "today = date.today()\n",
    "print(date.today())\n",
    "\n"
   ]
  },
  {
   "cell_type": "code",
   "execution_count": 11,
   "id": "2e5e896c",
   "metadata": {},
   "outputs": [
    {
     "name": "stdout",
     "output_type": "stream",
     "text": [
      "Enter The Radius Of A Circle : 2\n",
      "12.568\n"
     ]
    }
   ],
   "source": [
    "r = int(input(\"Enter The Radius Of A Circle : \"));\n",
    "area = (3.142)*(r**2);\n",
    "print(area);\n",
    "\n"
   ]
  },
  {
   "cell_type": "code",
   "execution_count": 12,
   "id": "cb192ad7",
   "metadata": {},
   "outputs": [
    {
     "name": "stdout",
     "output_type": "stream",
     "text": [
      "Enter Your First Name : Hamza\n",
      "Enter Your Second Name : Ahmed\n",
      "Printing Name In Reverse Order...\n",
      "Ahmed Hamza\n"
     ]
    }
   ],
   "source": [
    "first = input(\"Enter Your First Name : \");\n",
    "last = input(\"Enter Your Second Name : \");\n",
    "print(\"Printing Name In Reverse Order...\");\n",
    "print(last + \" \"+first);"
   ]
  },
  {
   "cell_type": "code",
   "execution_count": 14,
   "id": "7ea259cb",
   "metadata": {},
   "outputs": [
    {
     "name": "stdout",
     "output_type": "stream",
     "text": [
      "Enter A Number : 5\n",
      "Enter Second Number : 6\n",
      "The Addition Is : 11\n"
     ]
    }
   ],
   "source": [
    "a = int(input(\"Enter A Number : \"));\n",
    "b = int(input(\"Enter Second Number : \"));\n",
    "add = a+b;\n",
    "print(\"The Addition Is :\",add);\n"
   ]
  },
  {
   "cell_type": "code",
   "execution_count": null,
   "id": "d602e5d8",
   "metadata": {},
   "outputs": [],
   "source": []
  }
 ],
 "metadata": {
  "kernelspec": {
   "display_name": "Python 3 (ipykernel)",
   "language": "python",
   "name": "python3"
  },
  "language_info": {
   "codemirror_mode": {
    "name": "ipython",
    "version": 3
   },
   "file_extension": ".py",
   "mimetype": "text/x-python",
   "name": "python",
   "nbconvert_exporter": "python",
   "pygments_lexer": "ipython3",
   "version": "3.9.7"
  }
 },
 "nbformat": 4,
 "nbformat_minor": 5
}
